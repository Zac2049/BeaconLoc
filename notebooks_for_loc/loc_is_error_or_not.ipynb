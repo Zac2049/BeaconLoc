{
 "cells": [
  {
   "cell_type": "code",
   "execution_count": 2,
   "metadata": {},
   "outputs": [],
   "source": [
    "import sys\n",
    "sys.path.append('..')\n",
    "\n",
    "from utils.common import read_beacon_coords, read_beacon_data, process_beacon_data, process_beacon_data_for_pos\n",
    "import argparse\n",
    "import pandas as pd\n",
    "import os\n",
    "import matplotlib.pyplot as plt\n",
    "import numpy as np\n",
    "from collections import defaultdict\n",
    "import pdb"
   ]
  },
  {
   "cell_type": "markdown",
   "metadata": {},
   "source": [
    "## verify the loc algo correctness with dummy point"
   ]
  },
  {
   "cell_type": "code",
   "execution_count": 22,
   "metadata": {},
   "outputs": [
    {
     "name": "stdout",
     "output_type": "stream",
     "text": [
      "[[0, 0, 0, 3.1622776601683795], [6, 3, 0, 4.358898943540674], [0, 6, 0, 6.782329983125268]]\n",
      "[3.1622776601683795, 4.358898943540674, 6.782329983125268]\n",
      "0.00011799917933213029\n"
     ]
    }
   ],
   "source": [
    "from scipy.optimize import minimize\n",
    "import argparse\n",
    "\n",
    "\n",
    "args = argparse.Namespace(beacon_coords_file='../data0829ad/beacon_coords.txt', beacon_data_dir='../data0829ad/', beacon_data_file='../data0829ad/bluetoothData(84).txt', update_frequency=10)\n",
    "\n",
    "\n",
    "def trilaterate(beacons):\n",
    "    def error(point, beacons):\n",
    "        return sum((np.linalg.norm(np.array(point) - np.array(b[:3])) - b[3])**2 for b in beacons)\n",
    "    initial_guess = np.mean(beacons, axis=0)[:3]\n",
    "    bounds = [(None, None), (None, None), (0.9, 1.1)]\n",
    "    result = minimize(error, initial_guess, args=(beacons,), method='L-BFGS-B', bounds=bounds)\n",
    "    # result = minimize(error, initial_guess, args=(beacons,), method=self.config['trilateration']['method'])\n",
    "    return result.x\n",
    "\n",
    "\n",
    "coords = [[3.0, y, 1.0] for y in np.arange(0, 6, 0.2)]\n",
    "beacon_coords = [[0, 0, 0], [6, 3, 0], [0, 6, 0]]\n",
    "\n",
    "def solve_dis(coord):\n",
    "    return [np.linalg.norm(np.array(coord) - np.array(bc)) for bc in beacon_coords]\n",
    "\n",
    "distance_input = [solve_dis(coord) for coord in coords]\n",
    "beacon_inputs = []\n",
    "\n",
    "for i, d in enumerate(distance_input):\n",
    "    temp = []\n",
    "    for j in range(len(beacon_coords)):\n",
    "        new_beacon_coord = beacon_coords[j][:]  # 复制当前的 beacon 坐标\n",
    "        new_beacon_coord.append(d[j])  # 添加距离值\n",
    "        temp.append(new_beacon_coord)\n",
    "    beacon_inputs.append(temp)\n",
    "\n",
    "print(beacon_inputs[0])\n",
    "print(distance_input[0])\n",
    "error = 0\n",
    "for i in range(len(coords)):\n",
    "    result = trilaterate(beacon_inputs[i])\n",
    "    error += np.linalg.norm(np.array(result) - np.array(coords[i]))\n",
    "print(error)"
   ]
  },
  {
   "cell_type": "code",
   "execution_count": null,
   "metadata": {},
   "outputs": [],
   "source": []
  }
 ],
 "metadata": {
  "kernelspec": {
   "display_name": "lph_reid",
   "language": "python",
   "name": "python3"
  },
  "language_info": {
   "codemirror_mode": {
    "name": "ipython",
    "version": 3
   },
   "file_extension": ".py",
   "mimetype": "text/x-python",
   "name": "python",
   "nbconvert_exporter": "python",
   "pygments_lexer": "ipython3",
   "version": "3.9.19"
  }
 },
 "nbformat": 4,
 "nbformat_minor": 2
}
